{
 "cells": [
  {
   "cell_type": "code",
   "execution_count": 0,
   "metadata": {
    "application/vnd.databricks.v1+cell": {
     "cellMetadata": {
      "byteLimit": 2048000,
      "rowLimit": 10000
     },
     "inputWidgets": {},
     "nuid": "94412edd-6487-414b-8ecf-c1bf85214ebd",
     "showTitle": false,
     "tableResultSettingsMap": {},
     "title": ""
    }
   },
   "outputs": [
    {
     "output_type": "display_data",
     "data": {
      "text/html": [
       "<style scoped>\n",
       "  .table-result-container {\n",
       "    max-height: 300px;\n",
       "    overflow: auto;\n",
       "  }\n",
       "  table, th, td {\n",
       "    border: 1px solid black;\n",
       "    border-collapse: collapse;\n",
       "  }\n",
       "  th, td {\n",
       "    padding: 5px;\n",
       "  }\n",
       "  th {\n",
       "    text-align: left;\n",
       "  }\n",
       "</style><div class='table-result-container'><table class='table-result'><thead style='background-color: white'><tr><th>path</th><th>name</th><th>size</th><th>modificationTime</th></tr></thead><tbody><tr><td>dbfs:/FileStore/tables/OP_CVRD_RCPNT_PRFL_SPLMTL_README_P01302025.txt</td><td>OP_CVRD_RCPNT_PRFL_SPLMTL_README_P01302025.txt</td><td>3674</td><td>1742778323000</td></tr><tr><td>dbfs:/FileStore/tables/OP_DTL_OWNRSHP_PGYR2023_P01302025_01212025.csv</td><td>OP_DTL_OWNRSHP_PGYR2023_P01302025_01212025.csv</td><td>1827342</td><td>1742779004000</td></tr><tr><td>dbfs:/FileStore/tables/OP_PGYR2023_README_P01302025.txt</td><td>OP_PGYR2023_README_P01302025.txt</td><td>5422</td><td>1742779013000</td></tr><tr><td>dbfs:/FileStore/tables/OP_REMOVED_DELETED_PGYR2023_P01302025_01212025.csv</td><td>OP_REMOVED_DELETED_PGYR2023_P01302025_01212025.csv</td><td>158460</td><td>1742778998000</td></tr><tr><td>dbfs:/FileStore/tables/PGYR2023_P01302025_01212025-1.zip</td><td>PGYR2023_P01302025_01212025-1.zip</td><td>789005271</td><td>1742779918000</td></tr><tr><td>dbfs:/FileStore/tables/PGYR2023_P01302025_01212025.zip</td><td>PGYR2023_P01302025_01212025.zip</td><td>789005271</td><td>1742776742000</td></tr><tr><td>dbfs:/FileStore/tables/PHPRFL_P01302025_01212025-1.zip</td><td>PHPRFL_P01302025_01212025-1.zip</td><td>82966770</td><td>1742779261000</td></tr><tr><td>dbfs:/FileStore/tables/PHPRFL_P01302025_01212025.zip</td><td>PHPRFL_P01302025_01212025.zip</td><td>82966770</td><td>1742776848000</td></tr></tbody></table></div>"
      ]
     },
     "metadata": {
      "application/vnd.databricks.v1+output": {
       "addedWidgets": {},
       "aggData": [],
       "aggError": "",
       "aggOverflow": false,
       "aggSchema": [],
       "aggSeriesLimitReached": false,
       "aggType": "",
       "arguments": {},
       "columnCustomDisplayInfos": {},
       "data": [
        [
         "dbfs:/FileStore/tables/OP_CVRD_RCPNT_PRFL_SPLMTL_README_P01302025.txt",
         "OP_CVRD_RCPNT_PRFL_SPLMTL_README_P01302025.txt",
         3674,
         1742778323000
        ],
        [
         "dbfs:/FileStore/tables/OP_DTL_OWNRSHP_PGYR2023_P01302025_01212025.csv",
         "OP_DTL_OWNRSHP_PGYR2023_P01302025_01212025.csv",
         1827342,
         1742779004000
        ],
        [
         "dbfs:/FileStore/tables/OP_PGYR2023_README_P01302025.txt",
         "OP_PGYR2023_README_P01302025.txt",
         5422,
         1742779013000
        ],
        [
         "dbfs:/FileStore/tables/OP_REMOVED_DELETED_PGYR2023_P01302025_01212025.csv",
         "OP_REMOVED_DELETED_PGYR2023_P01302025_01212025.csv",
         158460,
         1742778998000
        ],
        [
         "dbfs:/FileStore/tables/PGYR2023_P01302025_01212025-1.zip",
         "PGYR2023_P01302025_01212025-1.zip",
         789005271,
         1742779918000
        ],
        [
         "dbfs:/FileStore/tables/PGYR2023_P01302025_01212025.zip",
         "PGYR2023_P01302025_01212025.zip",
         789005271,
         1742776742000
        ],
        [
         "dbfs:/FileStore/tables/PHPRFL_P01302025_01212025-1.zip",
         "PHPRFL_P01302025_01212025-1.zip",
         82966770,
         1742779261000
        ],
        [
         "dbfs:/FileStore/tables/PHPRFL_P01302025_01212025.zip",
         "PHPRFL_P01302025_01212025.zip",
         82966770,
         1742776848000
        ]
       ],
       "datasetInfos": [],
       "dbfsResultPath": null,
       "isJsonSchema": true,
       "metadata": {},
       "overflow": false,
       "plotOptions": {
        "customPlotOptions": {},
        "displayType": "table",
        "pivotAggregation": null,
        "pivotColumns": null,
        "xColumns": null,
        "yColumns": null
       },
       "removedWidgets": [],
       "schema": [
        {
         "metadata": "{}",
         "name": "path",
         "type": "\"string\""
        },
        {
         "metadata": "{}",
         "name": "name",
         "type": "\"string\""
        },
        {
         "metadata": "{}",
         "name": "size",
         "type": "\"long\""
        },
        {
         "metadata": "{}",
         "name": "modificationTime",
         "type": "\"long\""
        }
       ],
       "type": "table"
      }
     },
     "output_type": "display_data"
    }
   ],
   "source": [
    "# Uploaded Files \n",
    "display(dbutils.fs.ls(\"FileStore/tables/\"))"
   ]
  },
  {
   "cell_type": "markdown",
   "metadata": {
    "application/vnd.databricks.v1+cell": {
     "cellMetadata": {},
     "inputWidgets": {},
     "nuid": "66e7bd7d-bec0-4875-88e7-160e337c548e",
     "showTitle": false,
     "tableResultSettingsMap": {},
     "title": ""
    }
   },
   "source": [
    "Those are the datasets from the zip file, i have extracted them to databricks environment."
   ]
  },
  {
   "cell_type": "code",
   "execution_count": 0,
   "metadata": {
    "application/vnd.databricks.v1+cell": {
     "cellMetadata": {
      "byteLimit": 2048000,
      "rowLimit": 10000
     },
     "inputWidgets": {},
     "nuid": "5490f453-9e84-45db-bcfb-b67b953df45a",
     "showTitle": false,
     "tableResultSettingsMap": {},
     "title": ""
    }
   },
   "outputs": [
    {
     "output_type": "stream",
     "name": "stdout",
     "output_type": "stream",
     "text": [
      "Out[3]: True"
     ]
    }
   ],
   "source": [
    "# Copy loaded ZIP files from FileStore to temporary directory\n",
    "dbutils.fs.cp(\"dbfs:/FileStore/tables/PGYR2023_P01302025_01212025.zip\", \"file:/tmp/general.zip\")\n",
    "dbutils.fs.cp(\"dbfs:/FileStore/tables/PHPRFL_P01302025_01212025.zip\", \"file:/tmp/recipient.zip\")\n"
   ]
  },
  {
   "cell_type": "code",
   "execution_count": 0,
   "metadata": {
    "application/vnd.databricks.v1+cell": {
     "cellMetadata": {
      "byteLimit": 2048000,
      "rowLimit": 10000
     },
     "inputWidgets": {},
     "nuid": "7397c8f9-c3cb-40d7-ae41-293eccd989a6",
     "showTitle": false,
     "tableResultSettingsMap": {},
     "title": ""
    }
   },
   "outputs": [],
   "source": [
    "#Extract  ZIP files from temporary directory\n",
    "import zipfile\n",
    "\n",
    "# Extract general payments data from zip file \n",
    "with zipfile.ZipFile(\"/tmp/general.zip\", 'r') as zip_ref:\n",
    "    zip_ref.extractall(\"/tmp/openpayments_general\")\n",
    "\n",
    "# Extract recipient profiles data from zip file\n",
    "with zipfile.ZipFile(\"/tmp/recipient.zip\", 'r') as zip_ref:\n",
    "    zip_ref.extractall(\"/tmp/openpayments_recipient\")"
   ]
  },
  {
   "cell_type": "code",
   "execution_count": 0,
   "metadata": {
    "application/vnd.databricks.v1+cell": {
     "cellMetadata": {
      "byteLimit": 2048000,
      "rowLimit": 10000
     },
     "inputWidgets": {},
     "nuid": "64487192-92ca-45ab-a01b-e889971e12e1",
     "showTitle": false,
     "tableResultSettingsMap": {},
     "title": ""
    }
   },
   "outputs": [
    {
     "output_type": "stream",
     "name": "stdout",
     "output_type": "stream",
     "text": [
      "General Payment Files:\n['OP_DTL_GNRL_PGYR2023_P01302025_01212025.csv', 'OP_REMOVED_DELETED_PGYR2023_P01302025_01212025.csv', 'OP_DTL_RSRCH_PGYR2023_P01302025_01212025.csv', 'OP_DTL_OWNRSHP_PGYR2023_P01302025_01212025.csv', 'OP_PGYR2023_README_P01302025.txt']\nRecipient Files:\n['OP_CVRD_RCPNT_PRFL_SPLMTL_README_P01302025.txt', 'OP_CVRD_RCPNT_PRFL_SPLMTL_P01302025_01212025.csv']\n"
     ]
    }
   ],
   "source": [
    "# Now we have Confirm the CSV files  that were extracted\n",
    "import os\n",
    "\n",
    "print(\"General Payment Files:\")\n",
    "print(os.listdir(\"/tmp/openpayments_general\"))\n",
    "\n",
    "\n",
    "print(\"Recipient Files:\")\n",
    "print(os.listdir(\"/tmp/openpayments_recipient\"))\n"
   ]
  },
  {
   "cell_type": "code",
   "execution_count": 0,
   "metadata": {
    "application/vnd.databricks.v1+cell": {
     "cellMetadata": {
      "byteLimit": 2048000,
      "rowLimit": 10000
     },
     "inputWidgets": {},
     "nuid": "98291547-7897-4472-9919-af3ce5a25420",
     "showTitle": false,
     "tableResultSettingsMap": {},
     "title": ""
    }
   },
   "outputs": [
    {
     "output_type": "stream",
     "name": "stdout",
     "output_type": "stream",
     "text": [
      "Out[8]: '/dbfs/FileStore/tables/general.csv'"
     ]
    }
   ],
   "source": [
    "import shutil\n",
    "import os\n",
    "\n",
    "# Make sure destination exists\n",
    "os.makedirs(\"/dbfs/FileStore/tables/\", exist_ok=True)\n",
    "\n",
    "# Copy  file to FileStore\n",
    "shutil.copy(\"/tmp/openpayments_general/OP_DTL_GNRL_PGYR2023_P01302025_01212025.csv\", \"/dbfs/FileStore/tables/general.csv\")"
   ]
  },
  {
   "cell_type": "code",
   "execution_count": 0,
   "metadata": {
    "application/vnd.databricks.v1+cell": {
     "cellMetadata": {
      "byteLimit": 2048000,
      "rowLimit": 10000
     },
     "inputWidgets": {},
     "nuid": "1de87cf8-c71b-4f77-949a-ec662624aad2",
     "showTitle": false,
     "tableResultSettingsMap": {},
     "title": ""
    }
   },
   "outputs": [
    {
     "output_type": "stream",
     "name": "stdout",
     "output_type": "stream",
     "text": [
      "Out[9]: '/dbfs/FileStore/tables/recipient.csv'"
     ]
    }
   ],
   "source": [
    "# Copy recipient file\n",
    "shutil.copy(\"/tmp/openpayments_recipient/OP_CVRD_RCPNT_PRFL_SPLMTL_P01302025_01212025.csv\", \"/dbfs/FileStore/tables/recipient.csv\")\n"
   ]
  },
  {
   "cell_type": "code",
   "execution_count": 0,
   "metadata": {
    "application/vnd.databricks.v1+cell": {
     "cellMetadata": {
      "byteLimit": 2048000,
      "rowLimit": 10000
     },
     "inputWidgets": {},
     "nuid": "ec528b95-e79f-4e79-bd5a-10d435edd063",
     "showTitle": false,
     "tableResultSettingsMap": {},
     "title": ""
    }
   },
   "outputs": [
    {
     "output_type": "stream",
     "name": "stdout",
     "output_type": "stream",
     "text": [
      "  Files in /dbfs/FileStore/tables/:\n['general.csv', 'recipient.csv']\n"
     ]
    }
   ],
   "source": [
    "# DBFS files\n",
    "import os\n",
    "\n",
    "print(\"  Files in /dbfs/FileStore/tables/:\")\n",
    "print(os.listdir(\"/dbfs/FileStore/tables/\"))"
   ]
  },
  {
   "cell_type": "code",
   "execution_count": 0,
   "metadata": {
    "application/vnd.databricks.v1+cell": {
     "cellMetadata": {
      "byteLimit": 2048000,
      "rowLimit": 10000
     },
     "inputWidgets": {},
     "nuid": "b5bd4b85-250d-408d-90a8-887dfd46692b",
     "showTitle": false,
     "tableResultSettingsMap": {},
     "title": ""
    }
   },
   "outputs": [
    {
     "output_type": "stream",
     "name": "stdout",
     "output_type": "stream",
     "text": [
      " General Payments Preview:\n+-----------+----------------------+---------------------+--------------------+----------------------+----------------------------+---------------------+----------------------------+-----------------------------+---------------------------+-----------------------------+-----------------------------------------------+-----------------------------------------------+---------------+---------------+------------------+-----------------+------------------+---------------------+--------------------------------+--------------------------------+--------------------------------+--------------------------------+--------------------------------+--------------------------------+-----------------------------+-----------------------------+-----------------------------+-----------------------------+-----------------------------+-----------------------------+-------------------------------------+-------------------------------------+-------------------------------------+-------------------------------------+-------------------------------------+---------------------------------------------------------+-----------------------------------------------------------+-------------------------------------------------------------+--------------------------------------------------------------+----------------------------------------------------------------+---------------------------------+---------------+-------------------------------------------+------------------------------------+--------------------------------------+--------------+---------------+-----------------+-----------------------------+---------------------------------------+-----------------------------------------------------------------+-----------------+----------------------------------------------+----------------------+------------------------------+----------+------------------------------+-------------------------+---------------------------------+---------------------------------------------------------+--------------------------------------+--------------------------------------------------------+-----------------------------------+-----------------------------------------+---------------------------------+---------------------------------------------------------+--------------------------------------+--------------------------------------------------------+-----------------------------------+-----------------------------------------+---------------------------------+---------------------------------------------------------+--------------------------------------+--------------------------------------------------------+-----------------------------------+-----------------------------------------+---------------------------------+---------------------------------------------------------+--------------------------------------+--------------------------------------------------------+-----------------------------------+-----------------------------------------+---------------------------------+---------------------------------------------------------+--------------------------------------+--------------------------------------------------------+-----------------------------------+-----------------------------------------+------------+------------------------+\n|Change_Type|Covered_Recipient_Type|Teaching_Hospital_CCN|Teaching_Hospital_ID|Teaching_Hospital_Name|Covered_Recipient_Profile_ID|Covered_Recipient_NPI|Covered_Recipient_First_Name|Covered_Recipient_Middle_Name|Covered_Recipient_Last_Name|Covered_Recipient_Name_Suffix|Recipient_Primary_Business_Street_Address_Line1|Recipient_Primary_Business_Street_Address_Line2| Recipient_City|Recipient_State|Recipient_Zip_Code|Recipient_Country|Recipient_Province|Recipient_Postal_Code|Covered_Recipient_Primary_Type_1|Covered_Recipient_Primary_Type_2|Covered_Recipient_Primary_Type_3|Covered_Recipient_Primary_Type_4|Covered_Recipient_Primary_Type_5|Covered_Recipient_Primary_Type_6|Covered_Recipient_Specialty_1|Covered_Recipient_Specialty_2|Covered_Recipient_Specialty_3|Covered_Recipient_Specialty_4|Covered_Recipient_Specialty_5|Covered_Recipient_Specialty_6|Covered_Recipient_License_State_code1|Covered_Recipient_License_State_code2|Covered_Recipient_License_State_code3|Covered_Recipient_License_State_code4|Covered_Recipient_License_State_code5|Submitting_Applicable_Manufacturer_or_Applicable_GPO_Name|Applicable_Manufacturer_or_Applicable_GPO_Making_Payment_ID|Applicable_Manufacturer_or_Applicable_GPO_Making_Payment_Name|Applicable_Manufacturer_or_Applicable_GPO_Making_Payment_State|Applicable_Manufacturer_or_Applicable_GPO_Making_Payment_Country|Total_Amount_of_Payment_USDollars|Date_of_Payment|Number_of_Payments_Included_in_Total_Amount|Form_of_Payment_or_Transfer_of_Value|Nature_of_Payment_or_Transfer_of_Value|City_of_Travel|State_of_Travel|Country_of_Travel|Physician_Ownership_Indicator|Third_Party_Payment_Recipient_Indicator|Name_of_Third_Party_Entity_Receiving_Payment_or_Transfer_of_Value|Charity_Indicator|Third_Party_Equals_Covered_Recipient_Indicator|Contextual_Information|Delay_in_Publication_Indicator| Record_ID|Dispute_Status_for_Publication|Related_Product_Indicator|Covered_or_Noncovered_Indicator_1|Indicate_Drug_or_Biological_or_Device_or_Medical_Supply_1|Product_Category_or_Therapeutic_Area_1|Name_of_Drug_or_Biological_or_Device_or_Medical_Supply_1|Associated_Drug_or_Biological_NDC_1|Associated_Device_or_Medical_Supply_PDI_1|Covered_or_Noncovered_Indicator_2|Indicate_Drug_or_Biological_or_Device_or_Medical_Supply_2|Product_Category_or_Therapeutic_Area_2|Name_of_Drug_or_Biological_or_Device_or_Medical_Supply_2|Associated_Drug_or_Biological_NDC_2|Associated_Device_or_Medical_Supply_PDI_2|Covered_or_Noncovered_Indicator_3|Indicate_Drug_or_Biological_or_Device_or_Medical_Supply_3|Product_Category_or_Therapeutic_Area_3|Name_of_Drug_or_Biological_or_Device_or_Medical_Supply_3|Associated_Drug_or_Biological_NDC_3|Associated_Device_or_Medical_Supply_PDI_3|Covered_or_Noncovered_Indicator_4|Indicate_Drug_or_Biological_or_Device_or_Medical_Supply_4|Product_Category_or_Therapeutic_Area_4|Name_of_Drug_or_Biological_or_Device_or_Medical_Supply_4|Associated_Drug_or_Biological_NDC_4|Associated_Device_or_Medical_Supply_PDI_4|Covered_or_Noncovered_Indicator_5|Indicate_Drug_or_Biological_or_Device_or_Medical_Supply_5|Product_Category_or_Therapeutic_Area_5|Name_of_Drug_or_Biological_or_Device_or_Medical_Supply_5|Associated_Drug_or_Biological_NDC_5|Associated_Device_or_Medical_Supply_PDI_5|Program_Year|Payment_Publication_Date|\n+-----------+----------------------+---------------------+--------------------+----------------------+----------------------------+---------------------+----------------------------+-----------------------------+---------------------------+-----------------------------+-----------------------------------------------+-----------------------------------------------+---------------+---------------+------------------+-----------------+------------------+---------------------+--------------------------------+--------------------------------+--------------------------------+--------------------------------+--------------------------------+--------------------------------+-----------------------------+-----------------------------+-----------------------------+-----------------------------+-----------------------------+-----------------------------+-------------------------------------+-------------------------------------+-------------------------------------+-------------------------------------+-------------------------------------+---------------------------------------------------------+-----------------------------------------------------------+-------------------------------------------------------------+--------------------------------------------------------------+----------------------------------------------------------------+---------------------------------+---------------+-------------------------------------------+------------------------------------+--------------------------------------+--------------+---------------+-----------------+-----------------------------+---------------------------------------+-----------------------------------------------------------------+-----------------+----------------------------------------------+----------------------+------------------------------+----------+------------------------------+-------------------------+---------------------------------+---------------------------------------------------------+--------------------------------------+--------------------------------------------------------+-----------------------------------+-----------------------------------------+---------------------------------+---------------------------------------------------------+--------------------------------------+--------------------------------------------------------+-----------------------------------+-----------------------------------------+---------------------------------+---------------------------------------------------------+--------------------------------------+--------------------------------------------------------+-----------------------------------+-----------------------------------------+---------------------------------+---------------------------------------------------------+--------------------------------------+--------------------------------------------------------+-----------------------------------+-----------------------------------------+---------------------------------+---------------------------------------------------------+--------------------------------------+--------------------------------------------------------+-----------------------------------+-----------------------------------------+------------+------------------------+\n|    CHANGED|  Covered Recipient...|               220162|                9984|  Adventhealth Orlando|                        null|                 null|                        null|                         null|                       null|                         null|                               601 E Rollins St|                                           null|        Orlando|             FL|             32803|    United States|              null|                 null|                            null|                            null|                            null|                            null|                            null|                            null|                         null|                         null|                         null|                         null|                         null|                         null|                                 null|                                 null|                                 null|                                 null|                                 null|                                     Integra LifeScien...|                                               100000010950|                                         Integra LifeScien...|                                                            NJ|                                                   United States|                          2000.00|     07/20/2023|                                          1|                Cash or cash equi...|                                 Grant|          null|           null|             null|                           No|                   No Third Party Pa...|                                                             null|             null|                                          null|                  null|                            No|1031636873|                            No|                      Yes|                          Covered|                                                   Device|                   Neuro Critical Care|                                           CODMAN CERTAS|                               null|                           10381780529033|                             null|                                                     null|                                  null|                                                    null|                               null|                                     null|                             null|                                                     null|                                  null|                                                    null|                               null|                                     null|                             null|                                                     null|                                  null|                                                    null|                               null|                                     null|                             null|                                                     null|                                  null|                                                    null|                               null|                                     null|        2023|              01/30/2025|\n|    CHANGED|  Covered Recipient...|               220162|                9984|  Carle Foundation ...|                        null|                 null|                        null|                         null|                       null|                         null|                            2300 N Vermilion St|                                           null|       Danville|             IL|             61832|    United States|              null|                 null|                            null|                            null|                            null|                            null|                            null|                            null|                         null|                         null|                         null|                         null|                         null|                         null|                                 null|                                 null|                                 null|                                 null|                                 null|                                     Integra LifeScien...|                                               100000010950|                                         Integra LifeScien...|                                                            NJ|                                                   United States|                          1500.00|     11/03/2023|                                          1|                Cash or cash equi...|                                 Grant|          null|           null|             null|                           No|                   No Third Party Pa...|                                                             null|             null|                                          null|                  null|                            No|1031636879|                            No|                      Yes|                          Covered|                                                   Device|                   Neuro Critical Care|                                           CODMAN CERTAS|                               null|                           10381780529033|                             null|                                                     null|                                  null|                                                    null|                               null|                                     null|                             null|                                                     null|                                  null|                                                    null|                               null|                                     null|                             null|                                                     null|                                  null|                                                    null|                               null|                                     null|                             null|                                                     null|                                  null|                                                    null|                               null|                                     null|        2023|              01/30/2025|\n|    CHANGED|  Covered Recipient...|               220162|                9984|  St. Josephs Hospi...|                        null|                 null|                        null|                         null|                       null|                         null|                           4975 N Dysart Rd ...|                                           null|Litchfield Park|             AZ|             85340|    United States|              null|                 null|                            null|                            null|                            null|                            null|                            null|                            null|                         null|                         null|                         null|                         null|                         null|                         null|                                 null|                                 null|                                 null|                                 null|                                 null|                                     Integra LifeScien...|                                               100000010950|                                         Integra LifeScien...|                                                            NJ|                                                   United States|                          2500.00|     03/21/2023|                                          1|                Cash or cash equi...|                                 Grant|          null|           null|             null|                           No|                   No Third Party Pa...|                                                             null|             null|                                          null|                  null|                            No|1031636885|                            No|                      Yes|                          Covered|                                                   Device|                   Neuro Critical Care|                                           CODMAN CERTAS|                               null|                           10381780529033|                             null|                                                     null|                                  null|                                                    null|                               null|                                     null|                             null|                                                     null|                                  null|                                                    null|                               null|                                     null|                             null|                                                     null|                                  null|                                                    null|                               null|                                     null|                             null|                                                     null|                                  null|                                                    null|                               null|                                     null|        2023|              01/30/2025|\n|    CHANGED|  Covered Recipient...|               220162|                9984|  St. Josephs Hospi...|                        null|                 null|                        null|                         null|                       null|                         null|                           4975 N Dysart Rd ...|                                           null|Litchfield Park|             AZ|             85340|    United States|              null|                 null|                            null|                            null|                            null|                            null|                            null|                            null|                         null|                         null|                         null|                         null|                         null|                         null|                                 null|                                 null|                                 null|                                 null|                                 null|                                     Integra LifeScien...|                                               100000010950|                                         Integra LifeScien...|                                                            NJ|                                                   United States|                          3000.00|     04/14/2023|                                          1|                Cash or cash equi...|                                 Grant|          null|           null|             null|                           No|                   No Third Party Pa...|                                                             null|             null|                                          null|                  null|                            No|1031636889|                            No|                      Yes|                          Covered|                                                   Device|                   Neuro Critical Care|                                           CODMAN CERTAS|                               null|                           10381780529033|                             null|                                                     null|                                  null|                                                    null|                               null|                                     null|                             null|                                                     null|                                  null|                                                    null|                               null|                                     null|                             null|                                                     null|                                  null|                                                    null|                               null|                                     null|                             null|                                                     null|                                  null|                                                    null|                               null|                                     null|        2023|              01/30/2025|\n|    CHANGED|  Covered Recipient...|               220162|                9984|  Uc Davis Medical ...|                        null|                 null|                        null|                         null|                       null|                         null|                             2315 Stockton Blvd|                                           null|     Sacramento|             CA|             95817|    United States|              null|                 null|                            null|                            null|                            null|                            null|                            null|                            null|                         null|                         null|                         null|                         null|                         null|                         null|                                 null|                                 null|                                 null|                                 null|                                 null|                                     Integra LifeScien...|                                               100000010950|                                         Integra LifeScien...|                                                            NJ|                                                   United States|                          3921.61|     04/30/2023|                                          1|                Cash or cash equi...|                             Honoraria|          null|           null|             null|                           No|                   No Third Party Pa...|                                                             null|             null|                                          null|                  null|                            No|1031636896|                            No|                      Yes|                          Covered|                                                   Device|                   Neuro Critical Care|                                           CODMAN CERTAS|                               null|                           10381780529033|                          Covered|                                                   Device|                   Neuro Critical Care|                                            CUSA CLARITY|                               null|                           10381780126232|                             null|                                                     null|                                  null|                                                    null|                               null|                                     null|                             null|                                                     null|                                  null|                                                    null|                               null|                                     null|                             null|                                                     null|                                  null|                                                    null|                               null|                                     null|        2023|              01/30/2025|\n+-----------+----------------------+---------------------+--------------------+----------------------+----------------------------+---------------------+----------------------------+-----------------------------+---------------------------+-----------------------------+-----------------------------------------------+-----------------------------------------------+---------------+---------------+------------------+-----------------+------------------+---------------------+--------------------------------+--------------------------------+--------------------------------+--------------------------------+--------------------------------+--------------------------------+-----------------------------+-----------------------------+-----------------------------+-----------------------------+-----------------------------+-----------------------------+-------------------------------------+-------------------------------------+-------------------------------------+-------------------------------------+-------------------------------------+---------------------------------------------------------+-----------------------------------------------------------+-------------------------------------------------------------+--------------------------------------------------------------+----------------------------------------------------------------+---------------------------------+---------------+-------------------------------------------+------------------------------------+--------------------------------------+--------------+---------------+-----------------+-----------------------------+---------------------------------------+-----------------------------------------------------------------+-----------------+----------------------------------------------+----------------------+------------------------------+----------+------------------------------+-------------------------+---------------------------------+---------------------------------------------------------+--------------------------------------+--------------------------------------------------------+-----------------------------------+-----------------------------------------+---------------------------------+---------------------------------------------------------+--------------------------------------+--------------------------------------------------------+-----------------------------------+-----------------------------------------+---------------------------------+---------------------------------------------------------+--------------------------------------+--------------------------------------------------------+-----------------------------------+-----------------------------------------+---------------------------------+---------------------------------------------------------+--------------------------------------+--------------------------------------------------------+-----------------------------------+-----------------------------------------+---------------------------------+---------------------------------------------------------+--------------------------------------+--------------------------------------------------------+-----------------------------------+-----------------------------------------+------------+------------------------+\nonly showing top 5 rows\n\n Recipient Profiles Preview:\n+------------------------------+----------------------------+-----------------------------------------+-----------------------------------------+---------------------+------------------------------------+-------------------------------------+-----------------------------------+--------------------------------+----------------------------------------------+-----------------------------------------------+---------------------------------------------+------------------------------------------+----------------------------------------+----------------------------------------+------------------------------+-------------------------------+---------------------------------+--------------------------------------+---------------------------------------+-------------------------------------------+----------------------------------------+----------------------------------------+----------------------------------------+----------------------------------------+----------------------------------------+----------------------------------------+----------------------------------------------+----------------------------------------------+----------------------------------------------+----------------------------------------------+----------------------------------------------+\n|Covered_Recipient_Profile_Type|Covered_Recipient_Profile_ID|Associated_Covered_Recipient_Profile_ID_1|Associated_Covered_Recipient_Profile_ID_2|Covered_Recipient_NPI|Covered_Recipient_Profile_First_Name|Covered_Recipient_Profile_Middle_Name|Covered_Recipient_Profile_Last_Name|Covered_Recipient_Profile_Suffix|Covered_Recipient_Profile_Alternate_First_Name|Covered_Recipient_Profile_Alternate_Middle_Name|Covered_Recipient_Profile_Alternate_Last_Name|Covered_Recipient_Profile_Alternate_Suffix|Covered_Recipient_Profile_Address_Line_1|Covered_Recipient_Profile_Address_Line_2|Covered_Recipient_Profile_City|Covered_Recipient_Profile_State|Covered_Recipient_Profile_Zipcode|Covered_Recipient_Profile_Country_Name|Covered_Recipient_Profile_Province_Name|Covered_Recipient_Profile_Primary_Specialty|Covered_Recipient_Profile_OPS_Taxonomy_1|Covered_Recipient_Profile_OPS_Taxonomy_2|Covered_Recipient_Profile_OPS_Taxonomy_3|Covered_Recipient_Profile_OPS_Taxonomy_4|Covered_Recipient_Profile_OPS_Taxonomy_5|Covered_Recipient_Profile_OPS_Taxonomy_6|Covered_Recipient_Profile_License_State_Code_1|Covered_Recipient_Profile_License_State_Code_2|Covered_Recipient_Profile_License_State_Code_3|Covered_Recipient_Profile_License_State_Code_4|Covered_Recipient_Profile_License_State_Code_5|\n+------------------------------+----------------------------+-----------------------------------------+-----------------------------------------+---------------------+------------------------------------+-------------------------------------+-----------------------------------+--------------------------------+----------------------------------------------+-----------------------------------------------+---------------------------------------------+------------------------------------------+----------------------------------------+----------------------------------------+------------------------------+-------------------------------+---------------------------------+--------------------------------------+---------------------------------------+-------------------------------------------+----------------------------------------+----------------------------------------+----------------------------------------+----------------------------------------+----------------------------------------+----------------------------------------+----------------------------------------------+----------------------------------------------+----------------------------------------------+----------------------------------------------+----------------------------------------------+\n|          Covered Recipient...|                           1|                                     null|                                     null|           1003020595|                               BARRY|                                    D|                            SIMMONS|                            null|                                        BARRON|                                          DAVID|                                      SIMMONS|                                      null|                    847 SOUTH MILLEDG...|                                    null|                        ATHENS|                             GA|                       30605-1331|                         UNITED STATES|                                   null|                       Dental Providers|...|                              1223G0001X|                                    null|                                    null|                                    null|                                    null|                                    null|                                            GA|                                          null|                                          null|                                          null|                                          null|\n|          Covered Recipient...|                           2|                                     null|                                     null|           1003022823|                             LINDSEY|                                    R|                           SCHUSTER|                            null|                                       LINDSEY|                                              R|                                       GROBER|                                      null|                             15 HEIDI LN|                                    null|                   MOUNT SINAI|                             NY|                       11766-1428|                         UNITED STATES|                                   null|                       Allopathic & Oste...|                              207P00000X|                                    null|                                    null|                                    null|                                    null|                                    null|                                            NY|                                            PA|                                          null|                                          null|                                          null|\n|          Covered Recipient...|                           3|                                     null|                                     null|           1003023359|                              JUSTIN|                                    H|                            RACKLEY|                            null|                                        JUSTIN|                                         HAMWAY|                                      RACKLEY|                                      null|                     1001 SAM PERRY BLVD|                                    null|                FREDERICKSBURG|                             VA|                       22401-4453|                         UNITED STATES|                                   null|                       Allopathic & Oste...|                              207L00000X|                                    null|                                    null|                                    null|                                    null|                                    null|                                            VA|                                            OH|                                          null|                                          null|                                          null|\n|          Covered Recipient...|                           4|                                     null|                                     null|           1003024811|                                LISA|                                    L|                            HAMAKER|                            null|                                          null|                                           null|                                         null|                                      null|                    100 MARKET ST STE...|                                    null|                  COLLEGEVILLE|                             PA|                       19426-4927|                         UNITED STATES|                                   null|                       Allopathic & Oste...|                              207RE0101X|                                    null|                                    null|                                    null|                                    null|                                    null|                                            PA|                                          null|                                          null|                                          null|                                          null|\n|          Covered Recipient...|                           5|                                     null|                                     null|           1003025875|                             PATRICK|                                    E|                              DAVOL|                            null|                                       PATRICK|                                           ERIN|                                        DAVOL|                                      null|                    1698 E MCANDREWS ...|                                    null|                       MEDFORD|                             OR|                       97504-5590|                         UNITED STATES|                                   null|                       Allopathic & Oste...|                              208800000X|                                    null|                                    null|                                    null|                                    null|                                    null|                                            OR|                                            IN|                                          null|                                          null|                                          null|\n+------------------------------+----------------------------+-----------------------------------------+-----------------------------------------+---------------------+------------------------------------+-------------------------------------+-----------------------------------+--------------------------------+----------------------------------------------+-----------------------------------------------+---------------------------------------------+------------------------------------------+----------------------------------------+----------------------------------------+------------------------------+-------------------------------+---------------------------------+--------------------------------------+---------------------------------------+-------------------------------------------+----------------------------------------+----------------------------------------+----------------------------------------+----------------------------------------+----------------------------------------+----------------------------------------+----------------------------------------------+----------------------------------------------+----------------------------------------------+----------------------------------------------+----------------------------------------------+\nonly showing top 5 rows\n\n"
     ]
    }
   ],
   "source": [
    "# Load files using file\n",
    "gen_df = spark.read.csv(\"file:/dbfs/FileStore/tables/general.csv\", header=True, inferSchema=True)\n",
    "recipient_df = spark.read.csv(\"file:/dbfs/FileStore/tables/recipient.csv\", header=True, inferSchema=True)\n",
    "\n",
    "# Show previews\n",
    "print(\" General Payments Preview:\")\n",
    "gen_df.show(5)\n",
    "\n",
    "print(\" Recipient Profiles Preview:\")\n",
    "recipient_df.show(5)"
   ]
  },
  {
   "cell_type": "markdown",
   "metadata": {
    "application/vnd.databricks.v1+cell": {
     "cellMetadata": {},
     "inputWidgets": {},
     "nuid": "3a8b7307-8f04-4f6f-a608-75b005428ca6",
     "showTitle": false,
     "tableResultSettingsMap": {},
     "title": ""
    }
   },
   "source": [
    "Use PySpark to perform the analyses specified below on the 2023 files.\n",
    "\n",
    "1. What is the Nature of Payments with reimbursement amounts greater than $1,000 ordered by count?"
   ]
  },
  {
   "cell_type": "code",
   "execution_count": 0,
   "metadata": {
    "application/vnd.databricks.v1+cell": {
     "cellMetadata": {
      "byteLimit": 2048000,
      "rowLimit": 10000
     },
     "inputWidgets": {},
     "nuid": "c3457630-1bb8-41da-9fdc-728fe6b41484",
     "showTitle": false,
     "tableResultSettingsMap": {},
     "title": ""
    }
   },
   "outputs": [
    {
     "output_type": "stream",
     "name": "stdout",
     "output_type": "stream",
     "text": [
      "+--------------------------------------------------------------------------------------------------------------------------------------------------+------+\n|Nature_of_Payment_or_Transfer_of_Value                                                                                                            |Count |\n+--------------------------------------------------------------------------------------------------------------------------------------------------+------+\n|Compensation for services other than consulting, including serving as faculty or as a speaker at a venue other than a continuing education program|164092|\n|Consulting Fee                                                                                                                                    |105228|\n|Travel and Lodging                                                                                                                                |24738 |\n|Honoraria                                                                                                                                         |13750 |\n|Education                                                                                                                                         |13376 |\n|Royalty or License                                                                                                                                |11534 |\n|Compensation for serving as faculty or as a speaker for a medical education program                                                               |8658  |\n|Grant                                                                                                                                             |4922  |\n|Space rental or facility fees (teaching hospital only)                                                                                            |4917  |\n|Long term medical supply or device loan                                                                                                           |2930  |\n|Debt forgiveness                                                                                                                                  |1787  |\n|Food and Beverage                                                                                                                                 |966   |\n|Gift                                                                                                                                              |630   |\n|Acquisitions                                                                                                                                      |562   |\n|Charitable Contribution                                                                                                                           |239   |\n|Entertainment                                                                                                                                     |30    |\n+--------------------------------------------------------------------------------------------------------------------------------------------------+------+\n\n"
     ]
    }
   ],
   "source": [
    "#What is the Nature of Payments with reimbursement amounts greater than $1,000 ordered by count?\n",
    "from pyspark.sql.functions import col, count\n",
    "\n",
    "# Filter payments > $1000, group by payment nature, count And  sort descending\n",
    "gen_df.filter(col(\"Total_Amount_of_Payment_USDollars\") > 1000) \\\n",
    "    .groupBy(\"Nature_of_Payment_or_Transfer_of_Value\") \\\n",
    "    .agg(count(\"*\").alias(\"Count\")) \\\n",
    "    .orderBy(col(\"Count\").desc()) \\\n",
    "    .show(truncate=False)"
   ]
  },
  {
   "cell_type": "markdown",
   "metadata": {
    "application/vnd.databricks.v1+cell": {
     "cellMetadata": {},
     "inputWidgets": {},
     "nuid": "eaa767c5-dbd7-43c3-865b-8d83a1defcaa",
     "showTitle": false,
     "tableResultSettingsMap": {},
     "title": ""
    }
   },
   "source": [
    "Payments with reimbursement amounts larger than $1,000 are dominated by compensation for services other than consulting, which includes teaching and speaker roles outside of continuing education programs (164,092 cases). Consulting fees are closely followed with 105,228 occurrences, with travel and lodging accounting for 24,738. Other important payment forms are honoraria (13,750), education (13,376), and royals or licenses (11,534). Payments for medical education programs (8,658), grants (4,922), and space rental or facility fees at teaching hospitals (4,917) are all frequent. Smaller numbers are seen for long-term medical supply loans (2,930), debt forgiveness (1,787), and food and beverage (966). Other payment kinds that have the lowest counts are gifts, acquisitions, charitable contributions, and entertainment."
   ]
  },
  {
   "cell_type": "markdown",
   "metadata": {
    "application/vnd.databricks.v1+cell": {
     "cellMetadata": {},
     "inputWidgets": {},
     "nuid": "2fd9736a-f7dd-433e-a34e-10faeca318d2",
     "showTitle": false,
     "tableResultSettingsMap": {},
     "title": ""
    }
   },
   "source": [
    "2. What are the top ten Nature of Payments by count?"
   ]
  },
  {
   "cell_type": "code",
   "execution_count": 0,
   "metadata": {
    "application/vnd.databricks.v1+cell": {
     "cellMetadata": {
      "byteLimit": 2048000,
      "rowLimit": 10000
     },
     "inputWidgets": {},
     "nuid": "bae40116-7b6e-48e5-9bb0-378386273023",
     "showTitle": false,
     "tableResultSettingsMap": {},
     "title": ""
    }
   },
   "outputs": [
    {
     "output_type": "stream",
     "name": "stdout",
     "output_type": "stream",
     "text": [
      "+--------------------------------------------------------------------------------------------------------------------------------------------------+--------+\n|Nature_of_Payment_or_Transfer_of_Value                                                                                                            |Count   |\n+--------------------------------------------------------------------------------------------------------------------------------------------------+--------+\n|Food and Beverage                                                                                                                                 |13378464|\n|Travel and Lodging                                                                                                                                |545086  |\n|Compensation for services other than consulting, including serving as faculty or as a speaker at a venue other than a continuing education program|236628  |\n|Consulting Fee                                                                                                                                    |170630  |\n|Education                                                                                                                                         |161078  |\n|Gift                                                                                                                                              |31786   |\n|Honoraria                                                                                                                                         |20232   |\n|Royalty or License                                                                                                                                |15865   |\n|Compensation for serving as faculty or as a speaker for a medical education program                                                               |12234   |\n|Entertainment                                                                                                                                     |7967    |\n+--------------------------------------------------------------------------------------------------------------------------------------------------+--------+\nonly showing top 10 rows\n\n"
     ]
    }
   ],
   "source": [
    "#top ten Nature of Payments by count\n",
    "gen_df.groupBy(\"Nature_of_Payment_or_Transfer_of_Value\") \\\n",
    "    .agg(count(\"*\").alias(\"Count\")) \\\n",
    "    .orderBy(col(\"Count\").desc()) \\\n",
    "    .show(10, truncate=False)"
   ]
  },
  {
   "cell_type": "markdown",
   "metadata": {
    "application/vnd.databricks.v1+cell": {
     "cellMetadata": {},
     "inputWidgets": {},
     "nuid": "88caeded-5265-4e15-ba26-8f0a3515ccd9",
     "showTitle": false,
     "tableResultSettingsMap": {},
     "title": ""
    }
   },
   "source": [
    "The top 10 payment types by count are Food and Beverage (13,378,464), Travel and Lodging (545,086), and Compensation for services other than consulting (236,628). Other major payments are Consulting Fees (170,630), Education (161,078), and Gifts (31,786). In addition, payments for honoraria (20,232), royalties or licenses (15,865), compensation for working as faculty (12,234), and entertainment (7,967) are among the top ten."
   ]
  },
  {
   "cell_type": "markdown",
   "metadata": {
    "application/vnd.databricks.v1+cell": {
     "cellMetadata": {},
     "inputWidgets": {},
     "nuid": "ffffc6d6-1ff6-4f5e-a9bb-e9969d6c5c8c",
     "showTitle": false,
     "tableResultSettingsMap": {},
     "title": ""
    }
   },
   "source": [
    "3. What are the top ten Nature of Payments by total amount?"
   ]
  },
  {
   "cell_type": "code",
   "execution_count": 0,
   "metadata": {
    "application/vnd.databricks.v1+cell": {
     "cellMetadata": {
      "byteLimit": 2048000,
      "rowLimit": 10000
     },
     "inputWidgets": {},
     "nuid": "82f5beaa-c766-4a93-b3e5-739d11a1eb43",
     "showTitle": false,
     "tableResultSettingsMap": {},
     "title": ""
    }
   },
   "outputs": [
    {
     "output_type": "stream",
     "name": "stdout",
     "output_type": "stream",
     "text": [
      "+--------------------------------------------------------------------------------------------------------------------------------------------------+--------------------+\n|Nature_of_Payment_or_Transfer_of_Value                                                                                                            |Total_Payment       |\n+--------------------------------------------------------------------------------------------------------------------------------------------------+--------------------+\n|Royalty or License                                                                                                                                |1.19217456302E9     |\n|Compensation for services other than consulting, including serving as faculty or as a speaker at a venue other than a continuing education program|5.946326876500002E8 |\n|Consulting Fee                                                                                                                                    |5.148558758999996E8 |\n|Food and Beverage                                                                                                                                 |3.744878240099897E8 |\n|Travel and Lodging                                                                                                                                |1.7954842378000867E8|\n|Grant                                                                                                                                             |1.1188856182E8      |\n|Acquisitions                                                                                                                                      |7.192577675999999E7 |\n|Education                                                                                                                                         |6.469532594000257E7 |\n|Honoraria                                                                                                                                         |5.585182388999997E7 |\n|Long term medical supply or device loan                                                                                                           |3.009879195E7       |\n+--------------------------------------------------------------------------------------------------------------------------------------------------+--------------------+\nonly showing top 10 rows\n\n"
     ]
    }
   ],
   "source": [
    "#top ten Nature of Payments by total amount\n",
    "from pyspark.sql.functions import sum as spark_sum\n",
    "\n",
    "gen_df.groupBy(\"Nature_of_Payment_or_Transfer_of_Value\") \\\n",
    "    .agg(spark_sum(\"Total_Amount_of_Payment_USDollars\").alias(\"Total_Payment\")) \\\n",
    "    .orderBy(col(\"Total_Payment\").desc()) \\\n",
    "    .show(10, truncate=False)"
   ]
  },
  {
   "cell_type": "markdown",
   "metadata": {
    "application/vnd.databricks.v1+cell": {
     "cellMetadata": {},
     "inputWidgets": {},
     "nuid": "7dfa2c4a-6c75-4416-95ff-8861aef7e043",
     "showTitle": false,
     "tableResultSettingsMap": {},
     "title": ""
    }
   },
   "source": [
    "The top 10 payment types by total amount are Royalty or Licenseat $1.19 billion, followed by Compensation for services other than consulting at $594.63 million and Consulting Fees at $514.86 million. Other major payments include Food and Beverage ($374.49 million), Travel and Lodging ($179.55 million), and Grants ($111.89 million). Additional payments consist of Acquisitions ($71.93 million), Education ($64.70 million), Honoraria ($55.85 million), and Long-term medical supply or device loans($30.10 million)."
   ]
  },
  {
   "cell_type": "markdown",
   "metadata": {
    "application/vnd.databricks.v1+cell": {
     "cellMetadata": {},
     "inputWidgets": {},
     "nuid": "dccb46d4-d26c-4224-90ef-51dcc9859f15",
     "showTitle": false,
     "tableResultSettingsMap": {},
     "title": ""
    }
   },
   "source": [
    "4. What are the top ten physician specialties by total amount?"
   ]
  },
  {
   "cell_type": "code",
   "execution_count": 0,
   "metadata": {
    "application/vnd.databricks.v1+cell": {
     "cellMetadata": {
      "byteLimit": 2048000,
      "rowLimit": 10000
     },
     "inputWidgets": {},
     "nuid": "4a7e0a71-8370-4c6f-bb28-9358ed1ea547",
     "showTitle": false,
     "tableResultSettingsMap": {},
     "title": ""
    }
   },
   "outputs": [
    {
     "output_type": "stream",
     "name": "stdout",
     "output_type": "stream",
     "text": [
      "+------------------------------------------------------------------------------------------------+--------------------+\n|Covered_Recipient_Specialty_1                                                                   |Total_Payment       |\n+------------------------------------------------------------------------------------------------+--------------------+\n|null                                                                                            |7.936674692300001E8 |\n|Allopathic & Osteopathic Physicians|Orthopaedic Surgery                                         |4.0345021308999825E8|\n|Allopathic & Osteopathic Physicians|Internal Medicine                                           |1.3136300307000063E8|\n|Allopathic & Osteopathic Physicians|Psychiatry & Neurology|Neurology                            |8.979213626000014E7 |\n|Allopathic & Osteopathic Physicians|Neurological Surgery                                        |8.608847857000013E7 |\n|Allopathic & Osteopathic Physicians|Dermatology                                                 |8.320264774000064E7 |\n|Allopathic & Osteopathic Physicians|Internal Medicine|Cardiovascular Disease                    |7.022084115000033E7 |\n|Allopathic & Osteopathic Physicians|Internal Medicine|Hematology & Oncology                     |6.946894121000056E7 |\n|Allopathic & Osteopathic Physicians|Orthopaedic Surgery|Adult Reconstructive Orthopaedic Surgery|6.6772837490000024E7|\n|Allopathic & Osteopathic Physicians|Psychiatry & Neurology|Psychiatry                           |6.329825407000022E7 |\n+------------------------------------------------------------------------------------------------+--------------------+\nonly showing top 10 rows\n\n"
     ]
    }
   ],
   "source": [
    "#top ten physician specialties by total amount\n",
    "from pyspark.sql.functions import sum as spark_sum, col\n",
    "\n",
    "gen_df.groupBy(\"Covered_Recipient_Specialty_1\") \\\n",
    "    .agg(spark_sum(\"Total_Amount_of_Payment_USDollars\").alias(\"Total_Payment\")) \\\n",
    "    .orderBy(col(\"Total_Payment\").desc()) \\\n",
    "    .show(10, truncate=False)"
   ]
  },
  {
   "cell_type": "markdown",
   "metadata": {
    "application/vnd.databricks.v1+cell": {
     "cellMetadata": {},
     "inputWidgets": {},
     "nuid": "a67c6adc-6bea-4f75-a3a5-7757a4ca8c2c",
     "showTitle": false,
     "tableResultSettingsMap": {},
     "title": ""
    }
   },
   "source": [
    "The top 10 physician specialties by total amount are topped by Orthopaedic Surgery at $403.45 million, followed by Internal Medicineat $131.36 million. Other significant specializations include Neurology under Psychiatry & Neurology ($89.79 million), Neurological Surgery ($86.09 million), and Dermatology ($83.20 million). Furthermore, Cardiovascular Disease (Internal Medicine) is responsible for $70.22 million, Hematology & Oncology (Internal Medicine) for $69.47 million, and Adult Reconstructive Orthopaedic Surgeryfor $66.77 million. Psychiatry (Psychiatry & Neurology) pays $63.30 million, whereas Null Specialty pays $79.37 million."
   ]
  },
  {
   "cell_type": "markdown",
   "metadata": {
    "application/vnd.databricks.v1+cell": {
     "cellMetadata": {},
     "inputWidgets": {},
     "nuid": "cbf90ab1-55ea-46b4-a43b-c7643eaff022",
     "showTitle": false,
     "tableResultSettingsMap": {},
     "title": ""
    }
   },
   "source": [
    "5. Who are the top ten physicians by total amount?"
   ]
  },
  {
   "cell_type": "code",
   "execution_count": 0,
   "metadata": {
    "application/vnd.databricks.v1+cell": {
     "cellMetadata": {
      "byteLimit": 2048000,
      "rowLimit": 10000
     },
     "inputWidgets": {},
     "nuid": "870f2f36-7237-438c-94aa-215695ae671c",
     "showTitle": false,
     "tableResultSettingsMap": {},
     "title": ""
    }
   },
   "outputs": [
    {
     "output_type": "stream",
     "name": "stdout",
     "output_type": "stream",
     "text": [
      "+----------------+-------------------+\n|Physician_Name  |Total_Payment      |\n+----------------+-------------------+\n|                |7.933900857900002E8|\n|STEPHEN BURKHART|3.392202493E7      |\n|WILLIAM BINDER  |2.943437497E7      |\n|KEVIN FOLEY     |1.73059378E7       |\n|IVAN OSORIO     |1.606551551E7      |\n|GEORGE MAXWELL  |1.160032024E7      |\n|ROBERT BOOTH    |8459167.19         |\n|NEAL ELATTRACHE |7810628.2          |\n|AARON ROSENBERG |6883627.290000001  |\n|ROGER JACKSON   |6615711.26         |\n+----------------+-------------------+\nonly showing top 10 rows\n\n"
     ]
    }
   ],
   "source": [
    "# top ten physicians by total amount\n",
    "from pyspark.sql.functions import concat_ws, col, sum as spark_sum\n",
    "\n",
    "# Combine first and last name into 1 column\n",
    "gen_df_with_names = gen_df.withColumn(\n",
    "    \"Physician_Name\",\n",
    "    concat_ws(\" \", col(\"Covered_Recipient_First_Name\"), col(\"Covered_Recipient_Last_Name\"))\n",
    ")\n",
    "\n",
    "# Group by Physician_Name and get total amount\n",
    "gen_df_with_names.groupBy(\"Physician_Name\") \\\n",
    "    .agg(spark_sum(\"Total_Amount_of_Payment_USDollars\").alias(\"Total_Payment\")) \\\n",
    "    .orderBy(col(\"Total_Payment\").desc()) \\\n",
    "    .show(10, truncate=False)"
   ]
  },
  {
   "cell_type": "markdown",
   "metadata": {
    "application/vnd.databricks.v1+cell": {
     "cellMetadata": {},
     "inputWidgets": {},
     "nuid": "10096e5f-2347-4bae-98ea-fae141321c41",
     "showTitle": false,
     "tableResultSettingsMap": {},
     "title": ""
    }
   },
   "source": [
    "Stephen Burkhart leads the top ten physicians in terms of total earnings, with $33.92 million, followed by William Binder with $29.43 million and Kevin Foley with $17.31 million. Other famous physicians are Ivan Osorio($16.07 million), George Maxwell ($11.60 million), and Robert Booth ($8.46 million). Additional top physicians are Neal Elattrache ($7.81 million), Aaron Rosenberg ($6.88 million), and Roger Jackson ($6.62 million). A **Null Physician category has a total value of $793.39 million."
   ]
  }
 ],
 "metadata": {
  "application/vnd.databricks.v1+notebook": {
   "computePreferences": null,
   "dashboards": [],
   "environmentMetadata": {
    "base_environment": "",
    "client": "1"
   },
   "language": "python",
   "notebookMetadata": {
    "pythonIndentUnit": 4
   },
   "notebookName": "week 07 - spark Application",
   "widgets": {}
  }
 },
 "nbformat": 4,
 "nbformat_minor": 0
}
