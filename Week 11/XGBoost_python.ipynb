{
  "nbformat": 4,
  "nbformat_minor": 0,
  "metadata": {
    "colab": {
      "provenance": []
    },
    "kernelspec": {
      "name": "python3",
      "display_name": "Python 3"
    },
    "language_info": {
      "name": "python"
    }
  },
  "cells": [
    {
      "cell_type": "code",
      "source": [
        "import pandas as pd\n",
        "import numpy as np\n",
        "import time\n",
        "from xgboost import XGBClassifier\n",
        "from sklearn.model_selection import cross_val_score\n",
        "\n",
        "# Load data\n",
        "df = pd.read_csv('generated_pima_data1.csv')\n",
        "\n",
        "X = df.drop(columns=['outcome'])  # Features\n",
        "y = df['outcome']                 # Target\n",
        "\n",
        "sizes = [100, 1000, 10000, 100000, 1000000, 10000000]\n",
        "results = []\n",
        "\n",
        "for size in sizes:\n",
        "    print(f\"Training on dataset size: {size}\")\n",
        "\n",
        "    # Always sample together to avoid NaNs\n",
        "    if size > len(df):\n",
        "        sampled_df = df.sample(n=size, replace=True, random_state=42)\n",
        "    else:\n",
        "        sampled_df = df.sample(n=size, random_state=42)\n",
        "\n",
        "    X_sample = sampled_df.drop(columns=['outcome'])\n",
        "    y_sample = sampled_df['outcome']\n",
        "\n",
        "    # Drop rows with NaN values in y_sample\n",
        "    X_sample = X_sample[y_sample.notna()]\n",
        "    y_sample = y_sample[y_sample.notna()]\n",
        "\n",
        "    model = XGBClassifier(use_label_encoder=False, eval_metric='logloss', verbosity=0)\n",
        "\n",
        "    start = time.time()\n",
        "    scores = cross_val_score(model, X_sample, y_sample, cv=5, scoring='accuracy')\n",
        "    end = time.time()\n",
        "\n",
        "    results.append({\n",
        "        'Method used': 'XGBoost (scikit-learn, 5-fold CV)',\n",
        "        'Dataset size': size,\n",
        "        'Testing-set predictive performance (Accuracy)': round(np.mean(scores), 4),\n",
        "        'Time taken for the model to be fit (seconds)': round(end - start, 2)\n",
        "    })\n",
        "\n",
        "#   results table\n",
        "results_df = pd.DataFrame(results)\n",
        "print(\"\\nSummary Results:\\n\")\n",
        "print(results_df)\n",
        "\n",
        "# Save   CSV\n",
        "results_df.to_csv('xgb_simple_results.csv', index=False)\n",
        "print(\"\\nResults saved to xgb_simple_results.csv\")"
      ],
      "metadata": {
        "colab": {
          "base_uri": "https://localhost:8080/"
        },
        "id": "DLnNxHWXYRLt",
        "outputId": "4616227b-3b4d-41b0-acef-089d8cf4fe68"
      },
      "execution_count": 10,
      "outputs": [
        {
          "output_type": "stream",
          "name": "stdout",
          "text": [
            "Training on dataset size: 100\n",
            "Training on dataset size: 1000\n",
            "Training on dataset size: 10000\n",
            "Training on dataset size: 100000\n",
            "Training on dataset size: 1000000\n",
            "Training on dataset size: 10000000\n",
            "\n",
            "Summary Results:\n",
            "\n",
            "                         Method used  Dataset size  \\\n",
            "0  XGBoost (scikit-learn, 5-fold CV)           100   \n",
            "1  XGBoost (scikit-learn, 5-fold CV)          1000   \n",
            "2  XGBoost (scikit-learn, 5-fold CV)         10000   \n",
            "3  XGBoost (scikit-learn, 5-fold CV)        100000   \n",
            "4  XGBoost (scikit-learn, 5-fold CV)       1000000   \n",
            "5  XGBoost (scikit-learn, 5-fold CV)      10000000   \n",
            "\n",
            "   Testing-set predictive performance (Accuracy)  \\\n",
            "0                                         0.9100   \n",
            "1                                         0.9390   \n",
            "2                                         0.9766   \n",
            "3                                         0.9985   \n",
            "4                                         1.0000   \n",
            "5                                         1.0000   \n",
            "\n",
            "   Time taken for the model to be fit (seconds)  \n",
            "0                                          0.16  \n",
            "1                                          0.29  \n",
            "2                                          0.83  \n",
            "3                                          4.02  \n",
            "4                                         42.47  \n",
            "5                                        435.29  \n",
            "\n",
            "Results saved to xgb_simple_results.csv\n"
          ]
        }
      ]
    }
  ]
}