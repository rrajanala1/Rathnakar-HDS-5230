{
  "cells": [
    {
      "cell_type": "code",
      "execution_count": null,
      "metadata": {
        "id": "duC3d2yOVkZj"
      },
      "outputs": [],
      "source": [
        "import requests\n",
        "import json"
      ]
    },
    {
      "cell_type": "code",
      "source": [
        "import numpy as np"
      ],
      "metadata": {
        "id": "hPXiiM34Vp5z"
      },
      "execution_count": null,
      "outputs": []
    },
    {
      "cell_type": "code",
      "execution_count": null,
      "metadata": {
        "id": "KixJRWJFVkZl"
      },
      "outputs": [],
      "source": [
        "PREDICT_URL = \"http://127.0.0.1:8000/predict/\"\n",
        "RESULT_URL = \"http://127.0.0.1:8000/result/\"\n",
        "RETRAIN_URL = \"http://127.0.0.1:8000/retrain/\"\n",
        "NEWMODEL_URL = \"http://127.0.0.1:8000/new_model/\"\n",
        "EVALUATE_URL = \"http://127.0.0.1:8000/evaluate_model/\"\n",
        "\n",
        "DUMMY_MODEL = \"Dummy\"\n",
        "KNN_MODEL = \"KNN\"\n",
        "\n",
        "metric = 0.0\n",
        "key = 0"
      ]
    },
    {
      "cell_type": "code",
      "execution_count": null,
      "metadata": {
        "id": "nmWjTqNeVkZm"
      },
      "outputs": [],
      "source": [
        "def send_get_request (url:str, params:dict) :\n",
        "\n",
        "    df = {}\n",
        "    response = requests.get(url, params=params)\n",
        "\n",
        "    if response.status_code == 200:\n",
        "        df = response.json()\n",
        "        print(df)\n",
        "    else:\n",
        "        print(f\"Error: {response.status_code}\")\n",
        "    return df"
      ]
    },
    {
      "cell_type": "code",
      "execution_count": null,
      "metadata": {
        "id": "ymgO8n3RVkZn"
      },
      "outputs": [],
      "source": [
        "def get_prediction(key, x, y) :\n",
        "    params = {\"id\" : key, \"x\" :x, \"y\" :y}\n",
        "    response = send_get_request(PREDICT_URL, params)\n",
        "    return response.get(\"prediction\")"
      ]
    },
    {
      "cell_type": "code",
      "execution_count": null,
      "metadata": {
        "id": "hGc9wfO2VkZn"
      },
      "outputs": [],
      "source": [
        "def send_result(key, result) :\n",
        "    params = {\"id\" : key, \"result\" : result}\n",
        "    response = send_get_request(RESULT_URL, params)\n",
        "    return response"
      ]
    },
    {
      "cell_type": "code",
      "execution_count": null,
      "metadata": {
        "id": "-yE8_CetVkZn"
      },
      "outputs": [],
      "source": [
        "def request_retrain(last_n: int, model_type=\"Dummy\", strategy=\"stratified\", k=3):\n",
        "    return send_get_request(RETRAIN_URL, {\n",
        "        \"last_n\": last_n,\n",
        "        \"model_type\": model_type,\n",
        "        \"strategy\": strategy,\n",
        "        \"k\": k\n",
        "    })"
      ]
    },
    {
      "cell_type": "code",
      "execution_count": null,
      "metadata": {
        "id": "_gqc9m4kVkZn"
      },
      "outputs": [],
      "source": [
        "def request_new_model(model_name:str, model_params:dict, last_n:int) :\n",
        "    params = {\"last_n\" : last_n, \"model\": model_name, \"model_params\":model_params}\n",
        "    response = send_get_request(NEWMODEL_URL)\n",
        "    return response"
      ]
    },
    {
      "cell_type": "code",
      "execution_count": null,
      "metadata": {
        "id": "VJO9VIciVkZo"
      },
      "outputs": [],
      "source": [
        "def request_evaluation(last_n:int) :\n",
        "    params = {\"last_n\" : last_n}\n",
        "    response = send_get_request(EVALUATE_URL, params)\n",
        "    return response"
      ]
    },
    {
      "cell_type": "code",
      "execution_count": null,
      "metadata": {
        "id": "3oeLyMO-VkZo"
      },
      "outputs": [],
      "source": [
        "def new_dummy(strategy: str, last_n: int) :\n",
        "    model_params = {\"strategy\" : strategy}\n",
        "    response = request_new_model(DUMMY_MODEL, model_params, last_n)\n",
        "    return response"
      ]
    },
    {
      "cell_type": "code",
      "execution_count": null,
      "metadata": {
        "id": "XMGb7u8hVkZo"
      },
      "outputs": [],
      "source": [
        "def new_knn(k:int, last_n: int):\n",
        "    model_params = {\"k\" : k}\n",
        "    response = request_new_model(KNN_MODEL, model_params, last_n)\n",
        "    return response"
      ]
    },
    {
      "cell_type": "code",
      "execution_count": null,
      "metadata": {
        "id": "VFj1j51eVkZp"
      },
      "outputs": [],
      "source": [
        "def item(key,metric) :\n",
        "    key=key+1\n",
        "    x=np.random.rand()*2-1\n",
        "    y=np.random.rand()*2-1\n",
        "    z=np.random.rand()*.2-.1\n",
        "    result=x*y+z>metric\n",
        "    return [key, x, y, result]"
      ]
    },
    {
      "cell_type": "code",
      "execution_count": null,
      "metadata": {
        "id": "XUaGkDyxVkZp",
        "outputId": "1e4bdacf-6b51-4b33-d229-676cc8e6b434"
      },
      "outputs": [
        {
          "name": "stdout",
          "output_type": "stream",
          "text": [
            "Error: 500\n",
            "{'message': 'Copied result for 1'}\n"
          ]
        },
        {
          "data": {
            "text/plain": [
              "{'message': 'Copied result for 1'}"
            ]
          },
          "execution_count": 104,
          "metadata": {},
          "output_type": "execute_result"
        }
      ],
      "source": [
        "key, x, y, result = item(key, metric)\n",
        "\n",
        "prediction = get_prediction(key, x, y)\n",
        "send_result(key, result)"
      ]
    },
    {
      "cell_type": "code",
      "execution_count": null,
      "metadata": {
        "id": "nOFK9SV1VkZq",
        "outputId": "fd0eee2d-14b4-4b9c-c8dc-442d241fa912"
      },
      "outputs": [
        {
          "name": "stdout",
          "output_type": "stream",
          "text": [
            "Error: 500\n",
            "{'message': 'Copied result for 2'}\n",
            "Error: 500\n",
            "{'message': 'Copied result for 3'}\n",
            "Error: 500\n",
            "{'message': 'Copied result for 4'}\n",
            "Error: 500\n",
            "{'message': 'Copied result for 5'}\n",
            "Error: 500\n",
            "{'message': 'Copied result for 6'}\n",
            "Error: 500\n",
            "{'message': 'Copied result for 7'}\n",
            "Error: 500\n",
            "{'message': 'Copied result for 8'}\n",
            "Error: 500\n",
            "{'message': 'Copied result for 9'}\n",
            "Error: 500\n",
            "{'message': 'Copied result for 10'}\n",
            "Error: 500\n",
            "{'message': 'Copied result for 11'}\n",
            "Error: 500\n",
            "{'message': 'Copied result for 12'}\n",
            "Error: 500\n",
            "{'message': 'Copied result for 13'}\n",
            "Error: 500\n",
            "{'message': 'Copied result for 14'}\n",
            "Error: 500\n",
            "{'message': 'Copied result for 15'}\n",
            "Error: 500\n",
            "{'message': 'Copied result for 16'}\n",
            "Error: 500\n",
            "{'message': 'Copied result for 17'}\n",
            "Error: 500\n",
            "{'message': 'Copied result for 18'}\n",
            "Error: 500\n",
            "{'message': 'Copied result for 19'}\n",
            "Error: 500\n",
            "{'message': 'Copied result for 20'}\n",
            "Error: 500\n",
            "{'message': 'Copied result for 21'}\n",
            "Error: 500\n",
            "{'message': 'Copied result for 22'}\n",
            "Error: 500\n",
            "{'message': 'Copied result for 23'}\n",
            "Error: 500\n",
            "{'message': 'Copied result for 24'}\n",
            "Error: 500\n",
            "{'message': 'Copied result for 25'}\n",
            "Error: 500\n",
            "{'message': 'Copied result for 26'}\n",
            "Error: 500\n",
            "{'message': 'Copied result for 27'}\n",
            "Error: 500\n",
            "{'message': 'Copied result for 28'}\n",
            "Error: 500\n",
            "{'message': 'Copied result for 29'}\n",
            "Error: 500\n",
            "{'message': 'Copied result for 30'}\n",
            "Error: 500\n",
            "{'message': 'Copied result for 31'}\n"
          ]
        }
      ],
      "source": [
        "for _ in range(30):\n",
        "    key, x, y, result = item(key, metric)\n",
        "    prediction = get_prediction(key, x, y)\n",
        "    send_result(key, result)"
      ]
    },
    {
      "cell_type": "code",
      "execution_count": null,
      "metadata": {
        "id": "eiB1_ETCVkZq",
        "outputId": "c98a2f9f-a71b-46e7-807c-c23304db4b77"
      },
      "outputs": [
        {
          "name": "stdout",
          "output_type": "stream",
          "text": [
            "{'message': 'Model retrained using KNN', 'accuracy': 0.5, 'recall': 1.0, 'precision': 0.5}\n"
          ]
        },
        {
          "data": {
            "text/plain": [
              "{'message': 'Model retrained using KNN',\n",
              " 'accuracy': 0.5,\n",
              " 'recall': 1.0,\n",
              " 'precision': 0.5}"
            ]
          },
          "execution_count": 106,
          "metadata": {},
          "output_type": "execute_result"
        }
      ],
      "source": [
        "request_retrain(last_n=10, model_type=\"KNN\", k=5)"
      ]
    },
    {
      "cell_type": "code",
      "execution_count": null,
      "metadata": {
        "id": "rmjEZ1L1VkZr",
        "outputId": "cc082fd2-6c32-4800-c61e-856056a725d9"
      },
      "outputs": [
        {
          "name": "stdout",
          "output_type": "stream",
          "text": [
            "{'message': 'Model retrained using Dummy', 'accuracy': 0.5, 'recall': 0.75, 'precision': 0.5}\n"
          ]
        },
        {
          "data": {
            "text/plain": [
              "{'message': 'Model retrained using Dummy',\n",
              " 'accuracy': 0.5,\n",
              " 'recall': 0.75,\n",
              " 'precision': 0.5}"
            ]
          },
          "execution_count": 108,
          "metadata": {},
          "output_type": "execute_result"
        }
      ],
      "source": [
        "request_retrain(20, \"Dummy\")"
      ]
    }
  ],
  "metadata": {
    "kernelspec": {
      "display_name": "Python 3",
      "language": "python",
      "name": "python3"
    },
    "language_info": {
      "codemirror_mode": {
        "name": "ipython",
        "version": 3
      },
      "file_extension": ".py",
      "mimetype": "text/x-python",
      "name": "python",
      "nbconvert_exporter": "python",
      "pygments_lexer": "ipython3",
      "version": "3.12.4"
    },
    "colab": {
      "provenance": []
    }
  },
  "nbformat": 4,
  "nbformat_minor": 0
}